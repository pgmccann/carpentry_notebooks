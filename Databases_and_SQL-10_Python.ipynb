{
 "cells": [
  {
   "cell_type": "markdown",
   "metadata": {},
   "source": [
    "# Databases and SQL: Programming with Databases - Python\n",
    "\n",
    "[Based on http://swcarpentry.github.io/sql-novice-survey/10-prog/]\n",
    "\n",
    "## Overview\n",
    "\n",
    "- **Teaching:** 20 min \n",
    "- **Exercises:** 15 min\n",
    "\n",
    "### Questions\n",
    "\n",
    "- How can I access databases from programs written in Python?\n",
    "\n",
    "### Objectives\n",
    "\n",
    "- Write short programs that execute SQL queries.\n",
    "- Trace the execution of a program that contains an SQL query.\n",
    "- Explain why most database applications are written in a general-purpose language rather than in SQL.\n",
    "\n",
    "---\n",
    "\n",
    "---\n",
    "\n",
    "To close, let’s have a look at how to access a database from a general-purpose programming language like Python. Other languages use almost exactly the same model: library and function names may differ, but the concepts are the same.\n",
    "\n",
    "Here’s a short Python program that selects latitudes and longitudes from an SQLite database stored in a file called `survey.db`:"
   ]
  },
  {
   "cell_type": "code",
   "execution_count": 1,
   "metadata": {
    "collapsed": true
   },
   "outputs": [],
   "source": [
    "survey_data = \"/home/nbuser/survey.db\""
   ]
  },
  {
   "cell_type": "code",
   "execution_count": 2,
   "metadata": {},
   "outputs": [
    {
     "ename": "OperationalError",
     "evalue": "no such table: Site",
     "output_type": "error",
     "traceback": [
      "\u001b[0;31m---------------------------------------------------------------------------\u001b[0m",
      "\u001b[0;31mOperationalError\u001b[0m                          Traceback (most recent call last)",
      "\u001b[0;32m<ipython-input-2-76b8829e952e>\u001b[0m in \u001b[0;36m<module>\u001b[0;34m()\u001b[0m\n\u001b[1;32m      2\u001b[0m \u001b[0mconnection\u001b[0m \u001b[0;34m=\u001b[0m \u001b[0msqlite3\u001b[0m\u001b[0;34m.\u001b[0m\u001b[0mconnect\u001b[0m\u001b[0;34m(\u001b[0m\u001b[0msurvey_data\u001b[0m\u001b[0;34m)\u001b[0m\u001b[0;34m\u001b[0m\u001b[0m\n\u001b[1;32m      3\u001b[0m \u001b[0mcursor\u001b[0m \u001b[0;34m=\u001b[0m \u001b[0mconnection\u001b[0m\u001b[0;34m.\u001b[0m\u001b[0mcursor\u001b[0m\u001b[0;34m(\u001b[0m\u001b[0;34m)\u001b[0m\u001b[0;34m\u001b[0m\u001b[0m\n\u001b[0;32m----> 4\u001b[0;31m \u001b[0mcursor\u001b[0m\u001b[0;34m.\u001b[0m\u001b[0mexecute\u001b[0m\u001b[0;34m(\u001b[0m\u001b[0;34m\"SELECT Site.lat, Site.long FROM Site;\"\u001b[0m\u001b[0;34m)\u001b[0m\u001b[0;34m\u001b[0m\u001b[0m\n\u001b[0m\u001b[1;32m      5\u001b[0m \u001b[0mresults\u001b[0m \u001b[0;34m=\u001b[0m \u001b[0mcursor\u001b[0m\u001b[0;34m.\u001b[0m\u001b[0mfetchall\u001b[0m\u001b[0;34m(\u001b[0m\u001b[0;34m)\u001b[0m\u001b[0;34m\u001b[0m\u001b[0m\n\u001b[1;32m      6\u001b[0m \u001b[0;32mfor\u001b[0m \u001b[0mr\u001b[0m \u001b[0;32min\u001b[0m \u001b[0mresults\u001b[0m\u001b[0;34m:\u001b[0m\u001b[0;34m\u001b[0m\u001b[0m\n",
      "\u001b[0;31mOperationalError\u001b[0m: no such table: Site"
     ]
    }
   ],
   "source": [
    "import sqlite3\n",
    "connection = sqlite3.connect(survey_data)\n",
    "cursor = connection.cursor()\n",
    "cursor.execute(\"SELECT Site.lat, Site.long FROM Site;\")\n",
    "results = cursor.fetchall()\n",
    "for r in results:\n",
    "    print(r)\n",
    "cursor.close()\n",
    "connection.close()"
   ]
  },
  {
   "cell_type": "markdown",
   "metadata": {},
   "source": [
    "The program starts by importing the `sqlite3` library. If we were connecting to MySQL, DB2, or some other database, we would import a different library, but all of them provide the same functions, so that the rest of our program does not have to change (at least, not much) if we switch from one database to another.\n",
    "\n",
    "Line 2 establishes a connection to the database. Since we’re using SQLite, all we need to specify is the name of the database file. Other systems may require us to provide a username and password as well. Line 3 then uses this connection to create a [cursor](http://swcarpentry.github.io/sql-novice-survey/reference/#cursor). Just like the cursor in an editor, its role is to keep track of where we are in the database.\n",
    "\n",
    "On line 4, we use that cursor to ask the database to execute a query for us. The query is written in SQL, and passed to `cursor.execute` as a string. It’s our job to make sure that SQL is properly formatted; if it isn’t, or if something goes wrong when it is being executed, the database will report an error.\n",
    "\n",
    "The database returns the results of the query to us in response to the `cursor.fetchall` call on line 5. This result is a list with one entry for each record in the result set; if we loop over that list (line 6) and print those list entries (line 7), we can see that each one is a tuple with one element for each field we asked for.\n",
    "\n",
    "Finally, lines 8 and 9 close our cursor and our connection, since the database can only keep a limited number of these open at one time. Since establishing a connection takes time, though, we shouldn’t open a connection, do one operation, then close the connection, only to reopen it a few microseconds later to do another operation. Instead, it’s normal to create one connection that stays open for the lifetime of the program.\n",
    "\n",
    "Queries in real applications will often depend on values provided by users. For example, this function takes a user’s ID as a parameter and returns their name:"
   ]
  },
  {
   "cell_type": "code",
   "execution_count": null,
   "metadata": {
    "collapsed": true
   },
   "outputs": [],
   "source": [
    "def get_name(database_file, person_id):\n",
    "    query = \"SELECT personal || ' ' || family FROM Person WHERE id='\" + person_id + \"';\"\n",
    "\n",
    "    connection = sqlite3.connect(survey_data)\n",
    "    cursor = connection.cursor()\n",
    "    cursor.execute(query)\n",
    "    results = cursor.fetchall()\n",
    "    cursor.close()\n",
    "    connection.close()\n",
    "\n",
    "    return results[0][0]\n",
    "\n",
    "print(\"full name for dyer:\", get_name(survey_data, 'dyer'))"
   ]
  },
  {
   "cell_type": "markdown",
   "metadata": {},
   "source": [
    "We use string concatenation on the first line of this function to construct a query containing the user ID we have been given. This seems simple enough, but what happens if someone gives us this string as input?\n",
    "\n",
    "```SQL\n",
    "dyer'; DROP TABLE Survey; SELECT '\n",
    "```\n",
    "\n",
    "It looks like there’s garbage after the user’s ID, but it is very carefully chosen garbage. If we insert this string into our query, the result is:\n",
    "\n",
    "```SQL\n",
    "SELECT personal || ' ' || family FROM Person WHERE id='dyer'; DROP TABLE Survey; SELECT '';\n",
    "```\n",
    "\n",
    "If we execute this, it will erase one of the tables in our database.\n",
    "\n",
    "This is called an [SQL injection attack](http://swcarpentry.github.io/sql-novice-survey/reference/#sql-injection-attack), and it has been used to attack thousands of programs over the years. In particular, many web sites that take data from users insert values directly into queries without checking them carefully first.\n",
    "\n",
    "Since a villain might try to smuggle commands into our queries in many different ways, the safest way to deal with this threat is to replace characters like quotes with their escaped equivalents, so that we can safely put whatever the user gives us inside a string. We can do this by using a [prepared statement](http://swcarpentry.github.io/sql-novice-survey/reference/#prepared-statement) instead of formatting our statements as strings. Here’s what our example program looks like if we do this:"
   ]
  },
  {
   "cell_type": "code",
   "execution_count": null,
   "metadata": {
    "collapsed": true
   },
   "outputs": [],
   "source": [
    "def get_name(database_file, person_id):\n",
    "    query = \"SELECT personal || ' ' || family FROM Person WHERE id=?;\"\n",
    "\n",
    "    connection = sqlite3.connect(database_file)\n",
    "    cursor = connection.cursor()\n",
    "    cursor.execute(query, [person_id])\n",
    "    results = cursor.fetchall()\n",
    "    cursor.close()\n",
    "    connection.close()\n",
    "\n",
    "    return results[0][0]\n",
    "\n",
    "print(\"full name for dyer:\", get_name(survey_data, 'dyer'))"
   ]
  },
  {
   "cell_type": "markdown",
   "metadata": {},
   "source": [
    "The key changes are in the query string and the execute call. Instead of formatting the query ourselves, we put question marks in the query template where we want to insert values. When we call execute, we provide a list that contains as many values as there are question marks in the query. The library matches values to question marks in order, and translates any special characters in the values into their escaped equivalents so that they are safe to use.\n",
    "\n",
    "## Exercises\n",
    "\n",
    "### Filling a Table vs. Printing Values\n",
    "\n",
    "Write a Python program that creates a new database in a file called `original.db` containing a single table called `Pressure`, with a single field called `reading`, and inserts 100,000 random numbers between 10.0 and 25.0. How long does it take this program to run? How long does it take to run a program that simply writes those random numbers to a file?\n",
    "\n",
    "### Filtering in SQL vs. Filtering in Python\n",
    "\n",
    "Write a Python program that creates a new database called `backup.db` with the same structure as `original.db` and copies all the values greater than 20.0 from `original.db` to `backup.db`. Which is faster: filtering values in the query, or reading everything into memory and filtering in Python?\n",
    "\n",
    "## Key Points\n",
    "\n",
    "- General-purpose languages have libraries for accessing databases.\n",
    "- To connect to a database, a program must use a library specific to that database manager.\n",
    "- These libraries use a connection-and-cursor model.\n",
    "- Programs can read query results in batches or all at once.\n",
    "- Queries should be written using parameter substitution, not string formatting."
   ]
  },
  {
   "cell_type": "code",
   "execution_count": null,
   "metadata": {
    "collapsed": true
   },
   "outputs": [],
   "source": []
  }
 ],
 "metadata": {
  "kernelspec": {
   "display_name": "Python 3.6",
   "language": "python",
   "name": "python36"
  },
  "language_info": {
   "codemirror_mode": {
    "name": "ipython",
    "version": 3
   },
   "file_extension": ".py",
   "mimetype": "text/x-python",
   "name": "python",
   "nbconvert_exporter": "python",
   "pygments_lexer": "ipython3",
   "version": "3.6.0"
  }
 },
 "nbformat": 4,
 "nbformat_minor": 2
}
